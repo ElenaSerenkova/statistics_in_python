{
  "nbformat": 4,
  "nbformat_minor": 0,
  "metadata": {
    "colab": {
      "name": "dz.ipynb",
      "version": "0.3.2",
      "provenance": [],
      "include_colab_link": true
    },
    "kernelspec": {
      "name": "python3",
      "display_name": "Python 3"
    }
  },
  "cells": [
    {
      "cell_type": "markdown",
      "metadata": {
        "id": "view-in-github",
        "colab_type": "text"
      },
      "source": [
        "<a href=\"https://colab.research.google.com/github/yustiks/statistics_in_python/blob/master/dz.ipynb\" target=\"_parent\"><img src=\"https://colab.research.google.com/assets/colab-badge.svg\" alt=\"Open In Colab\"/></a>"
      ]
    },
    {
      "metadata": {
        "id": "QVI-7gzMl70f",
        "colab_type": "text"
      },
      "cell_type": "markdown",
      "source": [
        "# Домашнее задание по статистическому анализу на python"
      ]
    },
    {
      "metadata": {
        "id": "LN3xwZBXou5m",
        "colab_type": "text"
      },
      "cell_type": "markdown",
      "source": [
        "Построить нормальное гауссово распределение для двух переменных: x, y. Нарисовать их на плоскости (scatter plot)."
      ]
    },
    {
      "metadata": {
        "id": "LHSIiOzIogrV",
        "colab_type": "code",
        "colab": {}
      },
      "cell_type": "code",
      "source": [
        ""
      ],
      "execution_count": 0,
      "outputs": []
    },
    {
      "metadata": {
        "id": "LgJpJ1fipP-6",
        "colab_type": "text"
      },
      "cell_type": "markdown",
      "source": [
        "Нарисовать плотность распределения полученной выборки x."
      ]
    },
    {
      "metadata": {
        "id": "_TzLUV4KoiBs",
        "colab_type": "text"
      },
      "cell_type": "markdown",
      "source": [
        "Изменить гауссово распределение с помощью матрицы масштабирования Scale = [[n, 0], [0, n]], где n - число, во сколько раз увеличиваем разброс данной выборки. Построить график зависимости (корелляции) x от y."
      ]
    },
    {
      "metadata": {
        "id": "jRjpIGdil04c",
        "colab_type": "code",
        "colab": {}
      },
      "cell_type": "code",
      "source": [
        ""
      ],
      "execution_count": 0,
      "outputs": []
    },
    {
      "metadata": {
        "id": "QUXjguUhpJ4u",
        "colab_type": "text"
      },
      "cell_type": "markdown",
      "source": [
        "Нарисовать плотность распределения полученной выборки x. Сравнить с предыдущим графиком x. "
      ]
    },
    {
      "metadata": {
        "id": "fN07UDGUpbPC",
        "colab_type": "code",
        "colab": {}
      },
      "cell_type": "code",
      "source": [
        ""
      ],
      "execution_count": 0,
      "outputs": []
    },
    {
      "metadata": {
        "id": "JHWM3kQTpbbb",
        "colab_type": "text"
      },
      "cell_type": "markdown",
      "source": [
        "Посчитать коэффициент Пирсона для переменных x, y. Что означает положительное значение коэффициента? Отрицательное? 0? "
      ]
    },
    {
      "metadata": {
        "id": "UCW7a_C0p07u",
        "colab_type": "code",
        "colab": {}
      },
      "cell_type": "code",
      "source": [
        ""
      ],
      "execution_count": 0,
      "outputs": []
    },
    {
      "metadata": {
        "id": "27mvsIYNp1tB",
        "colab_type": "text"
      },
      "cell_type": "markdown",
      "source": [
        "Сгенерировать равномерное распределение на отрезке [1, 10]. Нарисовать график плотности распределения. Чем оно отличается от нормального?"
      ]
    },
    {
      "metadata": {
        "id": "UxXFiUb9qCxq",
        "colab_type": "code",
        "colab": {}
      },
      "cell_type": "code",
      "source": [
        ""
      ],
      "execution_count": 0,
      "outputs": []
    },
    {
      "metadata": {
        "id": "NIWbSwrXqHuU",
        "colab_type": "text"
      },
      "cell_type": "markdown",
      "source": [
        "Найти на графике примеры выброса. Что они означают?  "
      ]
    }
  ]
}